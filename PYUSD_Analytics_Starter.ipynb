{
  "cells": [
    {
      "cell_type": "markdown",
      "metadata": {},
      "source": [
        "# \ud83e\udde0 PYUSD Colab Starter Notebook\n",
        "### Query Ethereum Blockchain (BigQuery) and Export to Google Sheets"
      ]
    },
    {
      "cell_type": "code",
      "execution_count": null,
      "metadata": {},
      "outputs": [],
      "source": [
        "# \u2699\ufe0f STEP 1: Install Required Libraries\n",
        "!pip install --quiet --upgrade gspread gspread_dataframe google-auth google-cloud-bigquery pandas"
      ]
    },
    {
      "cell_type": "code",
      "execution_count": null,
      "metadata": {},
      "outputs": [],
      "source": [
        "# \ud83d\udcc1 STEP 2: Import Libraries\n",
        "import pandas as pd\n",
        "import gspread\n",
        "from gspread_dataframe import set_with_dataframe\n",
        "from google.colab import auth\n",
        "from google.cloud import bigquery\n",
        "from google.auth import default\n",
        "\n",
        "# \ud83d\udd10 STEP 3: Authenticate\n",
        "auth.authenticate_user()\n",
        "creds, _ = default()\n",
        "\n",
        "# Initialize BigQuery and Google Sheets clients\n",
        "bq_client = bigquery.Client(credentials=creds, project=creds.project_id)\n",
        "gc = gspread.authorize(creds)\n",
        "\n",
        "print(\"\u2705 Authenticated with Google Cloud\")"
      ]
    },
    {
      "cell_type": "code",
      "execution_count": null,
      "metadata": {},
      "outputs": [],
      "source": [
        "# \ud83d\udcca STEP 4: Querying BigQuery Ethereum Data\n",
        "query = \"\"\"\n",
        "SELECT \n",
        "  block_timestamp,\n",
        "  transaction_hash,\n",
        "  from_address,\n",
        "  to_address,\n",
        "  value / 1e18 as pyusd_value\n",
        "FROM \n",
        "  `bigquery-public-data.crypto_ethereum.token_transfers`\n",
        "WHERE \n",
        "  token_address = '0x6c3ea9036406852006290770bedfcaba0e23a0e8'\n",
        "  AND block_timestamp > TIMESTAMP_SUB(CURRENT_TIMESTAMP(), INTERVAL 7 DAY)\n",
        "ORDER BY block_timestamp DESC\n",
        "LIMIT 1000\n",
        "\"\"\"\n",
        "\n",
        "df = bq_client.query(query).to_dataframe()\n",
        "print(f\"\u2705 Retrieved {len(df)} PYUSD transfers\")\n",
        "df.head()"
      ]
    },
    {
      "cell_type": "code",
      "execution_count": null,
      "metadata": {},
      "outputs": [],
      "source": [
        "# \ud83d\udce4 STEP 5: Exporting to Google Sheets\n",
        "sheet = gc.create(\"PYUSD_Transfers_Export\")\n",
        "worksheet = sheet.get_worksheet(0)\n",
        "\n",
        "# Export dataframe to the sheet\n",
        "set_with_dataframe(worksheet, df)\n",
        "print(\"\u2705 Exported to Google Sheets:\", sheet.url)"
      ]
    }
  ],
  "metadata": {
    "kernelspec": {
      "display_name": "Python 3",
      "language": "python",
      "name": "python3"
    },
    "colab": {
      "name": "PYUSD_Analytics_Starter.ipynb",
      "provenance": []
    },
    "language_info": {
      "name": "python"
    }
  },
  "nbformat": 4,
  "nbformat_minor": 5
}