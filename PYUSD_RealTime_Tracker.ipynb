{
  "cells": [
    {
      "cell_type": "markdown",
      "metadata": {},
      "source": [
        "# \u23f1\ufe0f Real-Time PYUSD Tracker (GCP Node Engine)\n",
        "Monitors PYUSD Transfers on Ethereum in near real-time using GCP's Blockchain Node Engine.\n",
        "Exports latest transfers to Google Sheets."
      ]
    },
    {
      "cell_type": "code",
      "metadata": {},
      "execution_count": null,
      "outputs": [],
      "source": [
        "# \ud83d\udce6 Install dependencies\n",
        "!pip install --quiet gspread gspread_dataframe requests web3 google-auth"
      ]
    },
    {
      "cell_type": "code",
      "metadata": {},
      "execution_count": null,
      "outputs": [],
      "source": [
        "# \ud83d\udcda Imports and Auth\n",
        "import time\n",
        "import json\n",
        "import requests\n",
        "import pandas as pd\n",
        "from web3 import Web3\n",
        "import gspread\n",
        "from gspread_dataframe import set_with_dataframe\n",
        "from google.colab import auth\n",
        "\n",
        "# Authenticate with Google Cloud\n",
        "auth.authenticate_user()\n",
        "import google.auth\n",
        "creds, _ = google.auth.default()\n",
        "gc = gspread.authorize(creds)\n",
        "\n",
        "print(\"\u2705 Google Authenticated\")"
      ]
    },
    {
      "cell_type": "code",
      "metadata": {},
      "execution_count": null,
      "outputs": [],
      "source": [
        "# \ud83d\udd0c Connect to GCP Blockchain Node Engine (Ethereum Mainnet)\n",
        "GCP_RPC_URL = 'https://<your-node>.blockchainnodeengine.googleapis.com'  # Replace with your actual URL\n",
        "web3 = Web3(Web3.HTTPProvider(GCP_RPC_URL))\n",
        "\n",
        "PYUSD_CONTRACT = '0x6c3ea9036406852006290770bedfcaba0e23a0e8'.lower()\n",
        "TRANSFER_TOPIC = web3.keccak(text=\"Transfer(address,address,uint256)\").hex()\n",
        "\n",
        "print(\"\ud83d\udd17 Connected to Ethereum via GCP RPC\")"
      ]
    },
    {
      "cell_type": "code",
      "metadata": {},
      "execution_count": null,
      "outputs": [],
      "source": [
        "# \ud83d\udcca Setup Google Sheet for real-time updates\n",
        "sheet = gc.create(\"PYUSD_Realtime_Transfers\")\n",
        "ws = sheet.get_worksheet(0)\n",
        "print(\"\ud83d\udce4 Output Sheet:\", sheet.url)"
      ]
    },
    {
      "cell_type": "code",
      "metadata": {},
      "execution_count": null,
      "outputs": [],
      "source": [
        "# \u23f1\ufe0f Real-time polling loop\n",
        "latest_block = web3.eth.block_number\n",
        "poll_interval = 15  # seconds\n",
        "\n",
        "while True:\n",
        "    new_block = web3.eth.block_number\n",
        "    if new_block > latest_block:\n",
        "        print(f\"\ud83d\udd0d Scanning block {new_block}\")\n",
        "        logs = web3.eth.get_logs({\n",
        "            'fromBlock': new_block,\n",
        "            'toBlock': new_block,\n",
        "            'address': PYUSD_CONTRACT,\n",
        "            'topics': [TRANSFER_TOPIC]\n",
        "        })\n",
        "\n",
        "        transfers = []\n",
        "        for log in logs:\n",
        "            try:\n",
        "                from_addr = '0x' + log['topics'][1].hex()[-40:]\n",
        "                to_addr = '0x' + log['topics'][2].hex()[-40:]\n",
        "                value = int(log['data'], 16) / 1e18\n",
        "                transfers.append({\n",
        "                    'block': log['blockNumber'],\n",
        "                    'tx_hash': log['transactionHash'].hex(),\n",
        "                    'from': from_addr,\n",
        "                    'to': to_addr,\n",
        "                    'value': value\n",
        "                })\n",
        "            except Exception as e:\n",
        "                print(\"\u26a0\ufe0f Error parsing log:\", e)\n",
        "\n",
        "        if transfers:\n",
        "            df = pd.DataFrame(transfers)\n",
        "            set_with_dataframe(ws, df)\n",
        "            print(f\"\u2705 {len(df)} transfer(s) exported to Google Sheets\")\n",
        "        else:\n",
        "            print(\"\u2139\ufe0f No PYUSD transfers in this block\")\n",
        "\n",
        "        latest_block = new_block\n",
        "\n",
        "    time.sleep(poll_interval)"
      ]
    }
  ],
  "metadata": {
    "kernelspec": {
      "display_name": "Python 3",
      "language": "python",
      "name": "python3"
    },
    "colab": {
      "name": "PYUSD_RealTime_Tracker.ipynb",
      "provenance": []
    },
    "language_info": {
      "name": "python"
    }
  },
  "nbformat": 4,
  "nbformat_minor": 5
}