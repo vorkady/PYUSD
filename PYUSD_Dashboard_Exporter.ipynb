{
  "cells": [
    {
      "cell_type": "markdown",
      "metadata": {},
      "source": [
        "# \ud83d\udcca PYUSD Network Dashboard Builder\n",
        "\n",
        "**Goal**: Provide data pipelines for visualizing:\n",
        "- Ethereum Network Congestion\n",
        "- MEV Events involving PYUSD\n",
        "- PYUSD's Imprint on Ethereum (volume, holders, gas usage)\n",
        "\n",
        "This notebook prepares data views to be used in **Google Looker Studio**."
      ]
    },
    {
      "cell_type": "code",
      "metadata": {},
      "execution_count": null,
      "outputs": [],
      "source": [
        "# \ud83e\uddf0 Install libraries\n",
        "!pip install --quiet google-cloud-bigquery gspread gspread_dataframe google-auth pandas"
      ]
    },
    {
      "cell_type": "code",
      "metadata": {},
      "execution_count": null,
      "outputs": [],
      "source": [
        "# \u2705 Imports and auth\n",
        "import pandas as pd\n",
        "from google.colab import auth\n",
        "auth.authenticate_user()\n",
        "from google.cloud import bigquery\n",
        "import gspread\n",
        "from gspread_dataframe import set_with_dataframe\n",
        "import google.auth\n",
        "creds, _ = google.auth.default()\n",
        "gc = gspread.authorize(creds)\n",
        "client = bigquery.Client()\n",
        "print(\"\ud83d\udd10 Authenticated and connected to GCP\")"
      ]
    },
    {
      "cell_type": "code",
      "metadata": {},
      "execution_count": null,
      "outputs": [],
      "source": [
        "# \ud83d\udcc8 Query: Network Congestion Metrics (gas price, tx count, avg block time)\n",
        "query_congestion = '''\n",
        "SELECT\n",
        "  DATE(block_timestamp) AS date,\n",
        "  COUNT(*) AS tx_count,\n",
        "  AVG(gas_price) / 1e9 AS avg_gwei,\n",
        "  AVG(block_number - LAG(block_number) OVER(ORDER BY block_timestamp)) AS avg_block_spacing\n",
        "FROM `bigquery-public-data.crypto_ethereum.transactions`\n",
        "WHERE block_timestamp >= TIMESTAMP_SUB(CURRENT_TIMESTAMP(), INTERVAL 7 DAY)\n",
        "GROUP BY date\n",
        "ORDER BY date DESC\n",
        "'''\n",
        "df_congestion = client.query(query_congestion).to_dataframe()"
      ]
    },
    {
      "cell_type": "code",
      "metadata": {},
      "execution_count": null,
      "outputs": [],
      "source": [
        "# \ud83e\udde0 Query: PYUSD Token Impact\n",
        "query_pyusd = '''\n",
        "SELECT\n",
        "  DATE(block_timestamp) AS date,\n",
        "  COUNT(*) AS transfers,\n",
        "  SUM(value / 1e6) AS total_volume_m,\n",
        "  APPROX_COUNT_DISTINCT(from_address) AS unique_senders,\n",
        "  SUM(gas_price * gas_used) / 1e18 AS total_gas_eth\n",
        "FROM `bigquery-public-data.crypto_ethereum.token_transfers`\n",
        "WHERE token_address = '0x6c3ea9036406852006290770bedfcaba0e23a0e8'\n",
        "  AND block_timestamp >= TIMESTAMP_SUB(CURRENT_TIMESTAMP(), INTERVAL 30 DAY)\n",
        "GROUP BY date\n",
        "ORDER BY date DESC\n",
        "'''\n",
        "df_pyusd = client.query(query_pyusd).to_dataframe()"
      ]
    },
    {
      "cell_type": "code",
      "metadata": {},
      "execution_count": null,
      "outputs": [],
      "source": [
        "# \u26a0\ufe0f Simulated MEV signal: identify txs with high priority fee vs median\n",
        "query_mev = '''\n",
        "SELECT\n",
        "  DATE(block_timestamp) AS date,\n",
        "  COUNT(*) AS suspected_mev_events\n",
        "FROM `bigquery-public-data.crypto_ethereum.transactions`\n",
        "WHERE gas_price > 3 * (SELECT AVG(gas_price) FROM `bigquery-public-data.crypto_ethereum.transactions`\n",
        "                      WHERE block_timestamp >= TIMESTAMP_SUB(CURRENT_TIMESTAMP(), INTERVAL 1 DAY))\n",
        "AND to_address = '0x6c3ea9036406852006290770bedfcaba0e23a0e8'\n",
        "GROUP BY date\n",
        "ORDER BY date DESC\n",
        "'''\n",
        "df_mev = client.query(query_mev).to_dataframe()"
      ]
    },
    {
      "cell_type": "code",
      "metadata": {},
      "execution_count": null,
      "outputs": [],
      "source": [
        "# \ud83d\udce4 Export to Google Sheets for Looker Studio\n",
        "sheet = gc.create(\"PYUSD_Dashboard_Exports\")\n",
        "ws1 = sheet.get_worksheet(0)\n",
        "ws1.update_title(\"Network_Congestion\")\n",
        "set_with_dataframe(ws1, df_congestion)\n",
        "\n",
        "ws2 = sheet.add_worksheet(\"PYUSD_Impact\", 100, 20)\n",
        "set_with_dataframe(ws2, df_pyusd)\n",
        "\n",
        "ws3 = sheet.add_worksheet(\"MEV_Events\", 100, 20)\n",
        "set_with_dataframe(ws3, df_mev)\n",
        "\n",
        "print(\"\ud83d\udcca Data exported to Google Sheets:\", sheet.url)"
      ]
    }
  ],
  "metadata": {
    "kernelspec": {
      "display_name": "Python 3",
      "language": "python",
      "name": "python3"
    },
    "colab": {
      "name": "PYUSD_Dashboard_Exporter.ipynb",
      "provenance": []
    },
    "language_info": {
      "name": "python"
    }
  },
  "nbformat": 4,
  "nbformat_minor": 5
}